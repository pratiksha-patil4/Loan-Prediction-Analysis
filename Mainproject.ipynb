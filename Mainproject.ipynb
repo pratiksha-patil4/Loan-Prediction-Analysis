{
 "cells": [
  {
   "cell_type": "code",
   "execution_count": 1,
   "metadata": {},
   "outputs": [],
   "source": [
    " #Load libraries\n",
    " import pandas as pd\n",
    " import numpy as np\n",
    " import matplotlib.pyplot as plt\n",
    " from sklearn import model_selection\n",
    " from sklearn.metrics import accuracy_score\n",
    " from sklearn.linear_model import LogisticRegression\n",
    " from sklearn.ensemble import RandomForestClassifier\n",
    " from sklearn.neighbors import KNeighborsClassifier\n",
    "  from sklearn.tree import DecisionTreeClassifier, export_graphviz"
   ]
  },
  {
   "cell_type": "code",
   "execution_count": 2,
   "metadata": {},
   "outputs": [],
   "source": [
    "#Load dataset\n",
    "url = \"https://raw.githubusercontent.com/callxpert/datasets/master/Loan-applicant-details.csv\"\n",
    "names = ['Loan_ID','Gender','Married','Dependents','Education','Self_Employed','ApplicantIncome','CoapplicantIncome','LoanAmount','Loan_Amount_Term','Credit_History','Property_Area','Loan_Status']\n",
    "dataset = pd.read_csv(url, names=names)"
   ]
  },
  {
   "cell_type": "code",
   "execution_count": 3,
   "metadata": {},
   "outputs": [
    {
     "name": "stdout",
     "output_type": "stream",
     "text": [
      "     Loan_ID  Gender Married Dependents     Education Self_Employed  \\\n",
      "0   LP001003    Male     Yes          1      Graduate            No   \n",
      "1   LP001005    Male     Yes          0      Graduate           Yes   \n",
      "2   LP001006    Male     Yes          0  Not Graduate            No   \n",
      "3   LP001008    Male      No          0      Graduate            No   \n",
      "4   LP001011    Male     Yes          2      Graduate           Yes   \n",
      "5   LP001013    Male     Yes          0  Not Graduate            No   \n",
      "6   LP001014    Male     Yes         3+      Graduate            No   \n",
      "7   LP001018    Male     Yes          2      Graduate            No   \n",
      "8   LP001020    Male     Yes          1      Graduate            No   \n",
      "9   LP001024    Male     Yes          2      Graduate            No   \n",
      "10  LP001028    Male     Yes          2      Graduate            No   \n",
      "11  LP001029    Male      No          0      Graduate            No   \n",
      "12  LP001030    Male     Yes          2      Graduate            No   \n",
      "13  LP001032    Male      No          0      Graduate            No   \n",
      "14  LP001036  Female      No          0      Graduate            No   \n",
      "15  LP001038    Male     Yes          0  Not Graduate            No   \n",
      "16  LP001043    Male     Yes          0  Not Graduate            No   \n",
      "17  LP001046    Male     Yes          1      Graduate            No   \n",
      "18  LP001047    Male     Yes          0  Not Graduate            No   \n",
      "19  LP001066    Male     Yes          0      Graduate           Yes   \n",
      "\n",
      "    ApplicantIncome  CoapplicantIncome  LoanAmount  Loan_Amount_Term  \\\n",
      "0              4583             1508.0         128               360   \n",
      "1              3000                0.0          66               360   \n",
      "2              2583             2358.0         120               360   \n",
      "3              6000                0.0         141               360   \n",
      "4              5417             4196.0         267               360   \n",
      "5              2333             1516.0          95               360   \n",
      "6              3036             2504.0         158               360   \n",
      "7              4006             1526.0         168               360   \n",
      "8             12841            10968.0         349               360   \n",
      "9              3200              700.0          70               360   \n",
      "10             3073             8106.0         200               360   \n",
      "11             1853             2840.0         114               360   \n",
      "12             1299             1086.0          17               120   \n",
      "13             4950                0.0         125               360   \n",
      "14             3510                0.0          76               360   \n",
      "15             4887                0.0         133               360   \n",
      "16             7660                0.0         104               360   \n",
      "17             5955             5625.0         315               360   \n",
      "18             2600             1911.0         116               360   \n",
      "19             9560                0.0         191               360   \n",
      "\n",
      "    Credit_History Property_Area Loan_Status  \n",
      "0                1         Rural           N  \n",
      "1                1         Urban           Y  \n",
      "2                1         Urban           Y  \n",
      "3                1         Urban           Y  \n",
      "4                1         Urban           Y  \n",
      "5                1         Urban           Y  \n",
      "6                0     Semiurban           N  \n",
      "7                1         Urban           Y  \n",
      "8                1     Semiurban           N  \n",
      "9                1         Urban           Y  \n",
      "10               1         Urban           Y  \n",
      "11               1         Rural           N  \n",
      "12               1         Urban           Y  \n",
      "13               1         Urban           Y  \n",
      "14               0         Urban           N  \n",
      "15               1         Rural           N  \n",
      "16               0         Urban           N  \n",
      "17               1         Urban           Y  \n",
      "18               0     Semiurban           N  \n",
      "19               1     Semiurban           Y  \n"
     ]
    }
   ],
   "source": [
    "print(dataset.head(20))"
   ]
  },
  {
   "cell_type": "code",
   "execution_count": 14,
   "metadata": {},
   "outputs": [],
   "source": [
    "from sklearn.preprocessing import LabelEncoder\n",
    "var_mod = ['Gender','Married','Dependents','Education','Self_Employed','Property_Area','Loan_Status']\n",
    "le = LabelEncoder()\n",
    "for i in var_mod:\n",
    "    dataset[i] = le.fit_transform(dataset[i])"
   ]
  },
  {
   "cell_type": "code",
   "execution_count": 15,
   "metadata": {},
   "outputs": [],
   "source": [
    "array = dataset.values\n",
    "X = array[:,6:11]\n",
    "Y = array[:,12]\n",
    "x_train, x_test, y_train, y_test = model_selection.train_test_split(X, Y, test_size=0.2, random_state=7)"
   ]
  },
  {
   "cell_type": "code",
   "execution_count": 16,
   "metadata": {},
   "outputs": [],
   "source": [
    "from sklearn.preprocessing import LabelEncoder\n",
    "\n",
    "lab_enc = LabelEncoder()\n",
    "training_scores_encoded = lab_enc.fit_transform(y_train)\n",
    "\n",
    "lab_enc = LabelEncoder()\n",
    "test_scores_encoded = lab_enc.fit_transform(y_test)"
   ]
  },
  {
   "cell_type": "code",
   "execution_count": 17,
   "metadata": {},
   "outputs": [
    {
     "name": "stderr",
     "output_type": "stream",
     "text": [
      "C:\\ProgramData\\Anaconda3\\lib\\site-packages\\sklearn\\linear_model\\logistic.py:432: FutureWarning: Default solver will be changed to 'lbfgs' in 0.22. Specify a solver to silence this warning.\n",
      "  FutureWarning)\n"
     ]
    },
    {
     "name": "stdout",
     "output_type": "stream",
     "text": [
      "Predictions: 0.7708333333333334\n"
     ]
    }
   ],
   "source": [
    "from sklearn import utils\n",
    "model = LogisticRegression()\n",
    "#help(model.fit)\n",
    "#print(y_train.shape)\n",
    "#print(x_train.shape)\n",
    "#print(utils.multiclass.type_of_target(x_train.astype('int')))\n",
    "#print(utils.multiclass.type_of_target(y_train.astype('int')))\n",
    "model.fit(x_train,training_scores_encoded, sample_weight=None)\n",
    "predictions = model.predict(x_test)\n",
    "print(\"Predictions:\",model.score(x_test, test_scores_encoded))\n",
    "#print(predictions)\n"
   ]
  },
  {
   "cell_type": "code",
   "execution_count": 18,
   "metadata": {},
   "outputs": [],
   "source": [
    "from sklearn import utils\n",
    "from sklearn import metrics\n",
    "model = DecisionTreeClassifier()\n",
    "model.fit(x_train,training_scores_encoded)\n",
    "predictions = model.predict(x_test)"
   ]
  },
  {
   "cell_type": "code",
   "execution_count": 19,
   "metadata": {},
   "outputs": [
    {
     "name": "stdout",
     "output_type": "stream",
     "text": [
      "Accuracy: 0.6354166666666666\n"
     ]
    }
   ],
   "source": [
    "print(\"Accuracy:\",accuracy_score(test_scores_encoded, predictions))\n",
    "#print(accuracy)\n"
   ]
  },
  {
   "cell_type": "code",
   "execution_count": 20,
   "metadata": {},
   "outputs": [
    {
     "name": "stdout",
     "output_type": "stream",
     "text": [
      "0.7708333333333334\n"
     ]
    }
   ],
   "source": [
    "from sklearn import utils\n",
    "from sklearn import metrics\n",
    "model = RandomForestClassifier(n_estimators=100)\n",
    "model.fit(x_train,training_scores_encoded)\n",
    "predictions = model.predict(x_test)\n",
    "print(accuracy_score(test_scores_encoded, predictions))"
   ]
  },
  {
   "cell_type": "code",
   "execution_count": 21,
   "metadata": {},
   "outputs": [
    {
     "name": "stdout",
     "output_type": "stream",
     "text": [
      "0.6458333333333334\n"
     ]
    }
   ],
   "source": [
    "from sklearn.neighbors import KNeighborsClassifier\n",
    "knn = KNeighborsClassifier(n_neighbors=15)\n",
    "from sklearn import metrics\n",
    "\n",
    "knn.fit(x_train,training_scores_encoded)\n",
    "predictions = knn.predict(x_test)\n",
    "print(accuracy_score(test_scores_encoded, predictions))"
   ]
  },
  {
   "cell_type": "code",
   "execution_count": 22,
   "metadata": {},
   "outputs": [
    {
     "name": "stdout",
     "output_type": "stream",
     "text": [
      "0.75\n"
     ]
    }
   ],
   "source": [
    "from sklearn.naive_bayes import GaussianNB\n",
    "nb = GaussianNB()\n",
    "from sklearn import metrics\n",
    "\n",
    "nb.fit(x_train,training_scores_encoded)\n",
    "predictions = nb.predict(x_test)\n",
    "print(accuracy_score(test_scores_encoded, predictions))"
   ]
  },
  {
   "cell_type": "code",
   "execution_count": null,
   "metadata": {},
   "outputs": [],
   "source": []
  }
 ],
 "metadata": {
  "kernelspec": {
   "display_name": "Python 3",
   "language": "python",
   "name": "python3"
  },
  "language_info": {
   "codemirror_mode": {
    "name": "ipython",
    "version": 3
   },
   "file_extension": ".py",
   "mimetype": "text/x-python",
   "name": "python",
   "nbconvert_exporter": "python",
   "pygments_lexer": "ipython3",
   "version": "3.7.3"
  }
 },
 "nbformat": 4,
 "nbformat_minor": 2
}
